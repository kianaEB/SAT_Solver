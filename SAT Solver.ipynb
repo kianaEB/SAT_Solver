{
  "nbformat": 4,
  "nbformat_minor": 0,
  "metadata": {
    "colab": {
      "provenance": []
    },
    "kernelspec": {
      "name": "python3",
      "display_name": "Python 3"
    },
    "language_info": {
      "name": "python"
    }
  },
  "cells": [
    {
      "cell_type": "code",
      "source": [
        "def T(formula):\n",
        "    \"\"\"\n",
        "    Transforms a given formula according to the specified rules and removes double negations.\n",
        "    \"\"\"\n",
        "\n",
        "    # Recursive transformation\n",
        "    def transform(formula):\n",
        "        # Base case: If the formula is a single proposition\n",
        "        if formula.isalpha():\n",
        "            return formula\n",
        "\n",
        "        # Recursive transformation for negation\n",
        "        if formula.startswith('¬'):\n",
        "            subformula = transform(formula[1:])\n",
        "            # Remove double negation\n",
        "            if subformula.startswith('¬'):\n",
        "                return subformula[1:]\n",
        "            else:\n",
        "                return '¬' + subformula\n",
        "\n",
        "        # Recursive transformation for conjunction, disjunction, and implication\n",
        "        depth = 0\n",
        "        for i, char in enumerate(formula):\n",
        "            if char == '(':\n",
        "                depth += 1\n",
        "            elif char == ')':\n",
        "                depth -= 1\n",
        "            elif depth == 0:\n",
        "                if char == '∧':\n",
        "                    left = formula[:i].strip()\n",
        "                    right = formula[i+1:].strip()\n",
        "                    return transform(left) + ' ∧ ' + transform(right)\n",
        "                elif char == '∨':\n",
        "                    left = formula[:i].strip()\n",
        "                    right = formula[i+1:].strip()\n",
        "                    return '¬(¬' + transform(left) + ' ∧ ¬' + transform(right) + ')'\n",
        "                elif char == '→':\n",
        "                    left = formula[:i].strip()\n",
        "                    right = formula[i+1:].strip()\n",
        "                    return '¬(' + transform(left) + ' ∧ ¬' + transform(right) + ')'\n",
        "\n",
        "        # If the formula is enclosed in parentheses, remove them and transform\n",
        "        if formula.startswith('(') and formula.endswith(')'):\n",
        "            return transform(formula[1:-1])\n",
        "\n",
        "        return formula\n",
        "\n",
        "    # Start the transformation process\n",
        "    return transform(formula)"
      ],
      "metadata": {
        "id": "x3pcs9OWrKT2"
      },
      "execution_count": 136,
      "outputs": []
    },
    {
      "cell_type": "code",
      "source": [
        "class Node:\n",
        "    def __init__(self, value):\n",
        "        self.value = value\n",
        "        self.left = None\n",
        "        self.right = None\n",
        "\n",
        "def parse_formula(formula):\n",
        "    \"\"\"\n",
        "    Parses the formula and returns the root of the parse tree.\n",
        "    \"\"\"\n",
        "\n",
        "    # Helper function to find the main operator and its index\n",
        "    def find_main_operator(formula):\n",
        "        level = 0\n",
        "        for i, char in enumerate(formula):\n",
        "            if char == '(':\n",
        "                level += 1\n",
        "            elif char == ')':\n",
        "                level -= 1\n",
        "            elif level == 0 and char in ['∧', '∨', '→']:\n",
        "                return char, i\n",
        "        return None, -1\n",
        "\n",
        "    formula = formula.strip()\n",
        "    while formula.startswith('(') and formula.endswith(')'):\n",
        "        formula = formula[1:-1].strip()\n",
        "\n",
        "    operator, index = find_main_operator(formula)\n",
        "    if operator:\n",
        "        node = Node(operator)\n",
        "        node.left = parse_formula(formula[:index].strip())\n",
        "        node.right = parse_formula(formula[index + 1:].strip())\n",
        "        return node\n",
        "    elif formula.startswith('¬'):\n",
        "        node = Node('¬')\n",
        "        node.right = parse_formula(formula[1:].strip())\n",
        "        return node\n",
        "    else:\n",
        "        return Node(formula)\n",
        "\n",
        "def parse_to_dag(node, seen_subtrees):\n",
        "    \"\"\"\n",
        "    Transforms the parse tree into a DAG by merging common subtrees.\n",
        "    \"\"\"\n",
        "    if node is None:\n",
        "        return None\n",
        "\n",
        "    # Create a unique representation of the current subtree\n",
        "    subtree_repr = (node.value, id(node.left), id(node.right))\n",
        "\n",
        "    # Check if the subtree has already been seen\n",
        "    if subtree_repr in seen_subtrees:\n",
        "        # Reuse the existing node\n",
        "        return seen_subtrees[subtree_repr]\n",
        "\n",
        "    # This is a new subtree, add it to the seen subtrees\n",
        "    seen_subtrees[subtree_repr] = node\n",
        "\n",
        "    # Recursively process the left and right children\n",
        "    node.left = parse_to_dag(node.left, seen_subtrees)\n",
        "    node.right = parse_to_dag(node.right, seen_subtrees)\n",
        "\n",
        "    return node"
      ],
      "metadata": {
        "id": "HITiws3Bk7FU"
      },
      "execution_count": 137,
      "outputs": []
    },
    {
      "cell_type": "code",
      "source": [
        "def print_tree(node, depth=0, prefix=\"Root: \"):\n",
        "    \"\"\"\n",
        "    Prints the parse tree with appropriate indentation.\n",
        "    \"\"\"\n",
        "    if node is not None:\n",
        "        print_tree(node.right, depth + 1, \"R----\")\n",
        "        print(\"   \" * depth + prefix + node.value)\n",
        "        print_tree(node.left, depth + 1, \"L----\")\n",
        "\n",
        "def print_dag(node, depth=0, seen_nodes=None, node_ids=None):\n",
        "    \"\"\"\n",
        "    Prints the DAG with appropriate indentation, showing connections.\n",
        "    \"\"\"\n",
        "    if node is None:\n",
        "        return\n",
        "\n",
        "    if seen_nodes is None:\n",
        "        seen_nodes = set()\n",
        "        node_ids = {}\n",
        "\n",
        "    # Assign a unique identifier to the node if it's not already seen\n",
        "    if node not in node_ids:\n",
        "        node_ids[node] = len(node_ids) + 1  # IDs are 1-indexed\n",
        "\n",
        "    node_id = node_ids[node]\n",
        "\n",
        "    # Print node value and indicate if it's a shared node\n",
        "    shared = ' (shared)' if node in seen_nodes else ''\n",
        "    print(f\"{'   ' * depth}Node {node_id}: {node.value}{shared}\")\n",
        "\n",
        "    # If this node has already been printed, it's shared, and we stop printing its children\n",
        "    if node in seen_nodes:\n",
        "        return\n",
        "\n",
        "    seen_nodes.add(node)\n",
        "\n",
        "    # Recursively print left and right children\n",
        "    if node.left:\n",
        "        print_dag(node.left, depth + 1, seen_nodes, node_ids)\n",
        "    if node.right:\n",
        "        print_dag(node.right, depth + 1, seen_nodes, node_ids)\n"
      ],
      "metadata": {
        "id": "PFKUHQ_p5-fq"
      },
      "execution_count": 138,
      "outputs": []
    },
    {
      "cell_type": "code",
      "source": [
        "def apply_force_laws(node, valuation, force_laws_applied):\n",
        "    if node is None or node in force_laws_applied:\n",
        "        return True\n",
        "\n",
        "    force_laws_applied.add(node)\n",
        "    value = valuation.get(node, None)\n",
        "\n",
        "    if node.value == '∧':\n",
        "        left_val = valuation.get(node.left)\n",
        "        right_val = valuation.get(node.right)\n",
        "        if value is True:\n",
        "            valuation[node.left] = True\n",
        "            valuation[node.right] = True\n",
        "        elif left_val is False or right_val is False:\n",
        "            valuation[node] = False\n",
        "        elif left_val is True and right_val is True:\n",
        "            valuation[node] = True\n",
        "\n",
        "    elif node.value == '¬':\n",
        "        child_val = valuation.get(node.right)\n",
        "        if value is not None:\n",
        "            valuation[node.right] = not value\n",
        "        if child_val is not None:\n",
        "            valuation[node] = not child_val\n",
        "\n",
        "    left_satisfied = apply_force_laws(node.left, valuation, force_laws_applied)\n",
        "    right_satisfied = apply_force_laws(node.right, valuation, force_laws_applied)\n",
        "\n",
        "    return left_satisfied and right_satisfied\n",
        "\n",
        "def is_satisfiable(root):\n",
        "    valuation = {root: True}\n",
        "    force_laws_applied = set()\n",
        "\n",
        "    satisfiable = apply_force_laws(root, valuation, force_laws_applied)\n",
        "\n",
        "    # Post-processing: Check consistency from bottom-up\n",
        "    for node in force_laws_applied:\n",
        "        if node.value == '∧':\n",
        "            if valuation.get(node.left, False) and valuation.get(node.right, False):\n",
        "                valuation[node] = True\n",
        "            else:\n",
        "                valuation[node] = False\n",
        "\n",
        "    return satisfiable and valuation.get(root, False)"
      ],
      "metadata": {
        "id": "JhBhDS7Rcv2C"
      },
      "execution_count": 139,
      "outputs": []
    },
    {
      "cell_type": "code",
      "source": [
        "# Example usage\n",
        "input_formula = \"p ∧ ¬(q ∨ ¬p)\"\n",
        "translated_formula = T(input_formula)\n",
        "print(\"Original formula:\", input_formula)\n",
        "print(\"Translated formula:\", translated_formula)"
      ],
      "metadata": {
        "colab": {
          "base_uri": "https://localhost:8080/"
        },
        "id": "ZBxRiFRjjsYl",
        "outputId": "6dd97f10-8fa4-4e72-d9f2-9309850673fc"
      },
      "execution_count": 140,
      "outputs": [
        {
          "output_type": "stream",
          "name": "stdout",
          "text": [
            "Original formula: p ∧ ¬(q ∨ ¬p)\n",
            "Translated formula: p ∧ (¬q ∧ ¬¬p)\n"
          ]
        }
      ]
    },
    {
      "cell_type": "code",
      "source": [
        "# Example usage\n",
        "input_formula = \"p ∧ ¬¬(¬q ∧ ¬¬p)\"\n",
        "root = parse_formula(input_formula)\n",
        "print(\"Parse tree of the formula:\")\n",
        "print_tree(root)"
      ],
      "metadata": {
        "colab": {
          "base_uri": "https://localhost:8080/"
        },
        "id": "yWzYqd521lKx",
        "outputId": "ba0b5c58-2101-4547-ca1c-6924519dc485"
      },
      "execution_count": 141,
      "outputs": [
        {
          "output_type": "stream",
          "name": "stdout",
          "text": [
            "Parse tree of the formula:\n",
            "                  R----p\n",
            "               R----¬\n",
            "            R----¬\n",
            "         R----∧\n",
            "               R----q\n",
            "            L----¬\n",
            "      R----¬\n",
            "   R----¬\n",
            "Root: ∧\n",
            "   L----p\n"
          ]
        }
      ]
    },
    {
      "cell_type": "code",
      "source": [
        "# Example usage remains the same\n",
        "\n",
        "# Transform parse tree to DAG\n",
        "seen_subtrees = {}\n",
        "root = parse_to_dag(root, seen_subtrees)\n",
        "\n",
        "print(\"DAG of the formula:\")\n",
        "print_dag(root)"
      ],
      "metadata": {
        "colab": {
          "base_uri": "https://localhost:8080/"
        },
        "id": "57dGKF0JzenM",
        "outputId": "0a858014-0b9b-4380-ba7e-d2b3432e3ed3"
      },
      "execution_count": 142,
      "outputs": [
        {
          "output_type": "stream",
          "name": "stdout",
          "text": [
            "DAG of the formula:\n",
            "Node 1: ∧\n",
            "   Node 2: p\n",
            "   Node 3: ¬\n",
            "      Node 4: ¬\n",
            "         Node 5: ∧\n",
            "            Node 6: ¬\n",
            "               Node 7: q\n",
            "            Node 8: ¬\n",
            "               Node 9: ¬\n",
            "                  Node 2: p (shared)\n"
          ]
        }
      ]
    },
    {
      "cell_type": "code",
      "source": [
        "# Usage (you need to construct the DAG from your formula first)\n",
        "seen_subtrees = {}\n",
        "root = parse_to_dag(root, seen_subtrees)\n",
        "\n",
        "satisfiable = is_satisfiable(root)\n",
        "print(\"The formula is satisfiable.\" if satisfiable else \"The formula is not satisfiable.\")"
      ],
      "metadata": {
        "colab": {
          "base_uri": "https://localhost:8080/"
        },
        "id": "xJq1H4u8dAWa",
        "outputId": "cd0ad9bc-2cd9-482b-a1b0-d9708d90320d"
      },
      "execution_count": 143,
      "outputs": [
        {
          "output_type": "stream",
          "name": "stdout",
          "text": [
            "The formula is satisfiable.\n"
          ]
        }
      ]
    },
    {
      "cell_type": "code",
      "source": [
        "# Example usage\n",
        "input_formula = \"p ∨ q\"\n",
        "translated_formula = T(input_formula)\n",
        "print(\"Original formula:\", input_formula)\n",
        "print(\"Translated formula:\", translated_formula)"
      ],
      "metadata": {
        "colab": {
          "base_uri": "https://localhost:8080/"
        },
        "id": "zKrHwBoLutoG",
        "outputId": "1ad0bbc8-6129-44ef-edc8-2df2838971ce"
      },
      "execution_count": 144,
      "outputs": [
        {
          "output_type": "stream",
          "name": "stdout",
          "text": [
            "Original formula: p ∨ q\n",
            "Translated formula: ¬(¬p ∧ ¬q)\n"
          ]
        }
      ]
    },
    {
      "cell_type": "code",
      "source": [
        "# Example usage\n",
        "input_formula = \"¬(¬p ∧ ¬q)\"\n",
        "root = parse_formula(input_formula)\n",
        "print(\"Parse tree of the formula:\")\n",
        "print_tree(root)"
      ],
      "metadata": {
        "colab": {
          "base_uri": "https://localhost:8080/"
        },
        "id": "qQ2dSKOy1wW2",
        "outputId": "b07103ab-99b6-4f81-a197-dd64bfc698e0"
      },
      "execution_count": 145,
      "outputs": [
        {
          "output_type": "stream",
          "name": "stdout",
          "text": [
            "Parse tree of the formula:\n",
            "         R----q\n",
            "      R----¬\n",
            "   R----∧\n",
            "         R----p\n",
            "      L----¬\n",
            "Root: ¬\n"
          ]
        }
      ]
    },
    {
      "cell_type": "code",
      "source": [
        "# Example usage remains the same\n",
        "\n",
        "# Transform parse tree to DAG\n",
        "seen_subtrees = {}\n",
        "root = parse_to_dag(root, seen_subtrees)\n",
        "\n",
        "print(\"DAG of the formula:\")\n",
        "print_dag(root)"
      ],
      "metadata": {
        "colab": {
          "base_uri": "https://localhost:8080/"
        },
        "id": "uWJS8Hdt5WXN",
        "outputId": "ab7a5f25-719e-47ab-c95b-92851bc824a6"
      },
      "execution_count": 146,
      "outputs": [
        {
          "output_type": "stream",
          "name": "stdout",
          "text": [
            "DAG of the formula:\n",
            "Node 1: ¬\n",
            "   Node 2: ∧\n",
            "      Node 3: ¬\n",
            "         Node 4: p\n",
            "      Node 5: ¬\n",
            "         Node 6: q\n"
          ]
        }
      ]
    },
    {
      "cell_type": "code",
      "source": [
        "# Usage (you need to construct the DAG from your formula first)\n",
        "seen_subtrees = {}\n",
        "root = parse_to_dag(root, seen_subtrees)\n",
        "\n",
        "satisfiable = is_satisfiable(root)\n",
        "print(\"The formula is satisfiable.\" if satisfiable else \"The formula is not satisfiable.\")"
      ],
      "metadata": {
        "colab": {
          "base_uri": "https://localhost:8080/"
        },
        "id": "ClWBm9SMdDF8",
        "outputId": "47f59cf5-319d-4658-b8ee-4d204bf6a94c"
      },
      "execution_count": 147,
      "outputs": [
        {
          "output_type": "stream",
          "name": "stdout",
          "text": [
            "The formula is satisfiable.\n"
          ]
        }
      ]
    },
    {
      "cell_type": "code",
      "source": [
        "# Example usage\n",
        "input_formula = \"(p) ∨ (p ∨ p)\"\n",
        "translated_formula = T(input_formula)\n",
        "print(\"Original formula:\", input_formula)\n",
        "print(\"Translated formula:\", translated_formula)"
      ],
      "metadata": {
        "colab": {
          "base_uri": "https://localhost:8080/"
        },
        "id": "_WJc9kla2V7N",
        "outputId": "82495105-0c19-4d12-e940-0ab67d335863"
      },
      "execution_count": 148,
      "outputs": [
        {
          "output_type": "stream",
          "name": "stdout",
          "text": [
            "Original formula: (p) ∨ (p ∨ p)\n",
            "Translated formula: ¬(¬p ∧ ¬¬(¬p ∧ ¬p))\n"
          ]
        }
      ]
    },
    {
      "cell_type": "code",
      "source": [
        "# Example usage\n",
        "input_formula = \"¬(¬p ∧ ¬¬(¬p ∧ ¬p))\"\n",
        "root = parse_formula(input_formula)\n",
        "print(\"Parse tree of the formula:\")\n",
        "print_tree(root)"
      ],
      "metadata": {
        "colab": {
          "base_uri": "https://localhost:8080/"
        },
        "id": "SHiccP4K1uXj",
        "outputId": "ba132da8-1e1d-42e8-f9fb-a4e7d6df151e"
      },
      "execution_count": 149,
      "outputs": [
        {
          "output_type": "stream",
          "name": "stdout",
          "text": [
            "Parse tree of the formula:\n",
            "                  R----p\n",
            "               R----¬\n",
            "            R----∧\n",
            "                  R----p\n",
            "               L----¬\n",
            "         R----¬\n",
            "      R----¬\n",
            "   R----∧\n",
            "         R----p\n",
            "      L----¬\n",
            "Root: ¬\n"
          ]
        }
      ]
    },
    {
      "cell_type": "code",
      "source": [
        "# Example usage remains the same\n",
        "\n",
        "# Transform parse tree to DAG\n",
        "seen_subtrees = {}\n",
        "root = parse_to_dag(root, seen_subtrees)\n",
        "\n",
        "print(\"DAG of the formula:\")\n",
        "print_dag(root)"
      ],
      "metadata": {
        "colab": {
          "base_uri": "https://localhost:8080/"
        },
        "id": "93pjZJkM5XWe",
        "outputId": "d0add59c-e8a5-45bc-dfb7-6735af8fa5e8"
      },
      "execution_count": 150,
      "outputs": [
        {
          "output_type": "stream",
          "name": "stdout",
          "text": [
            "DAG of the formula:\n",
            "Node 1: ¬\n",
            "   Node 2: ∧\n",
            "      Node 3: ¬\n",
            "         Node 4: p\n",
            "      Node 5: ¬\n",
            "         Node 6: ¬\n",
            "            Node 7: ∧\n",
            "               Node 8: ¬\n",
            "                  Node 4: p (shared)\n",
            "               Node 9: ¬\n",
            "                  Node 4: p (shared)\n"
          ]
        }
      ]
    },
    {
      "cell_type": "code",
      "source": [
        "# Usage (you need to construct the DAG from your formula first)\n",
        "seen_subtrees = {}\n",
        "root = parse_to_dag(root, seen_subtrees)\n",
        "\n",
        "satisfiable = is_satisfiable(root)\n",
        "print(\"The formula is satisfiable.\" if satisfiable else \"The formula is not satisfiable.\")"
      ],
      "metadata": {
        "colab": {
          "base_uri": "https://localhost:8080/"
        },
        "id": "pTBdFHFedERm",
        "outputId": "6bf9288a-d035-475a-922e-a0d0380da31c"
      },
      "execution_count": 151,
      "outputs": [
        {
          "output_type": "stream",
          "name": "stdout",
          "text": [
            "The formula is satisfiable.\n"
          ]
        }
      ]
    },
    {
      "cell_type": "code",
      "source": [
        "# Example usage\n",
        "input_formula = \"¬p ∧ (q ∨ r)\"\n",
        "translated_formula = T(input_formula)\n",
        "print(\"Original formula:\", input_formula)\n",
        "print(\"Translated formula:\", translated_formula)"
      ],
      "metadata": {
        "colab": {
          "base_uri": "https://localhost:8080/"
        },
        "id": "oLe0dmrK1tBU",
        "outputId": "97e20b3f-b8a9-49f4-da0f-9423f5763d97"
      },
      "execution_count": 152,
      "outputs": [
        {
          "output_type": "stream",
          "name": "stdout",
          "text": [
            "Original formula: ¬p ∧ (q ∨ r)\n",
            "Translated formula: ¬p ∧ ¬(¬q ∧ ¬r)\n"
          ]
        }
      ]
    },
    {
      "cell_type": "code",
      "source": [
        "# Example usage\n",
        "input_formula = \"¬(p ∧ ¬(¬q ∧ ¬r))\"\n",
        "root = parse_formula(input_formula)\n",
        "print(\"Parse tree of the formula:\")\n",
        "print_tree(root)"
      ],
      "metadata": {
        "colab": {
          "base_uri": "https://localhost:8080/"
        },
        "id": "67bnF8h91xC5",
        "outputId": "7f5a5b36-4351-4569-9474-ce3183e93e4a"
      },
      "execution_count": 153,
      "outputs": [
        {
          "output_type": "stream",
          "name": "stdout",
          "text": [
            "Parse tree of the formula:\n",
            "               R----r\n",
            "            R----¬\n",
            "         R----∧\n",
            "               R----q\n",
            "            L----¬\n",
            "      R----¬\n",
            "   R----∧\n",
            "      L----p\n",
            "Root: ¬\n"
          ]
        }
      ]
    },
    {
      "cell_type": "code",
      "source": [
        "# Example usage remains the same\n",
        "\n",
        "# Transform parse tree to DAG\n",
        "seen_subtrees = {}\n",
        "root = parse_to_dag(root, seen_subtrees)\n",
        "\n",
        "print(\"DAG of the formula:\")\n",
        "print_dag(root)"
      ],
      "metadata": {
        "colab": {
          "base_uri": "https://localhost:8080/"
        },
        "id": "KmW_iF075X9l",
        "outputId": "b14402bc-c6f7-494f-8989-bae0c1c237a2"
      },
      "execution_count": 154,
      "outputs": [
        {
          "output_type": "stream",
          "name": "stdout",
          "text": [
            "DAG of the formula:\n",
            "Node 1: ¬\n",
            "   Node 2: ∧\n",
            "      Node 3: p\n",
            "      Node 4: ¬\n",
            "         Node 5: ∧\n",
            "            Node 6: ¬\n",
            "               Node 7: q\n",
            "            Node 8: ¬\n",
            "               Node 9: r\n"
          ]
        }
      ]
    },
    {
      "cell_type": "code",
      "source": [
        "# Usage (you need to construct the DAG from your formula first)\n",
        "seen_subtrees = {}\n",
        "root = parse_to_dag(root, seen_subtrees)\n",
        "\n",
        "satisfiable = is_satisfiable(root)\n",
        "print(\"The formula is satisfiable.\" if satisfiable else \"The formula is not satisfiable.\")"
      ],
      "metadata": {
        "colab": {
          "base_uri": "https://localhost:8080/"
        },
        "id": "2rHZnc0ndFUc",
        "outputId": "80cded61-956f-45ea-bf09-5d3df64b8ed3"
      },
      "execution_count": 155,
      "outputs": [
        {
          "output_type": "stream",
          "name": "stdout",
          "text": [
            "The formula is satisfiable.\n"
          ]
        }
      ]
    },
    {
      "cell_type": "code",
      "source": [
        "# Example usage\n",
        "input_formula = \"(p ∧ q) ∨ r\"\n",
        "translated_formula = T(input_formula)\n",
        "print(\"Original formula:\", input_formula)\n",
        "print(\"Translated formula:\", translated_formula)"
      ],
      "metadata": {
        "colab": {
          "base_uri": "https://localhost:8080/"
        },
        "id": "y4VxvWLJ1uMO",
        "outputId": "c8cfab96-70d6-4a64-a6b5-deb7aeca2700"
      },
      "execution_count": 156,
      "outputs": [
        {
          "output_type": "stream",
          "name": "stdout",
          "text": [
            "Original formula: (p ∧ q) ∨ r\n",
            "Translated formula: ¬(¬p ∧ q ∧ ¬r)\n"
          ]
        }
      ]
    },
    {
      "cell_type": "code",
      "source": [
        "# Example usage\n",
        "input_formula = \"¬(¬(p ∧ q) ∧ ¬r)\"\n",
        "root = parse_formula(input_formula)\n",
        "print(\"Parse tree of the formula:\")\n",
        "print_tree(root)"
      ],
      "metadata": {
        "colab": {
          "base_uri": "https://localhost:8080/"
        },
        "id": "lERwJMkJ1xv6",
        "outputId": "1094c2fd-001b-4a49-f3a1-21760008a9fe"
      },
      "execution_count": 157,
      "outputs": [
        {
          "output_type": "stream",
          "name": "stdout",
          "text": [
            "Parse tree of the formula:\n",
            "         R----r\n",
            "      R----¬\n",
            "   R----∧\n",
            "            R----q\n",
            "         R----∧\n",
            "            L----p\n",
            "      L----¬\n",
            "Root: ¬\n"
          ]
        }
      ]
    },
    {
      "cell_type": "code",
      "source": [
        "# Example usage remains the same\n",
        "\n",
        "# Transform parse tree to DAG\n",
        "seen_subtrees = {}\n",
        "root = parse_to_dag(root, seen_subtrees)\n",
        "\n",
        "print(\"DAG of the formula:\")\n",
        "print_dag(root)"
      ],
      "metadata": {
        "colab": {
          "base_uri": "https://localhost:8080/"
        },
        "id": "-Dmwg1m0cpU-",
        "outputId": "e8ab969a-e813-43a1-c79f-6b8a595ac122"
      },
      "execution_count": 158,
      "outputs": [
        {
          "output_type": "stream",
          "name": "stdout",
          "text": [
            "DAG of the formula:\n",
            "Node 1: ¬\n",
            "   Node 2: ∧\n",
            "      Node 3: ¬\n",
            "         Node 4: ∧\n",
            "            Node 5: p\n",
            "            Node 6: q\n",
            "      Node 7: ¬\n",
            "         Node 8: r\n"
          ]
        }
      ]
    },
    {
      "cell_type": "code",
      "source": [
        "# Usage (you need to construct the DAG from your formula first)\n",
        "seen_subtrees = {}\n",
        "root = parse_to_dag(root, seen_subtrees)\n",
        "\n",
        "satisfiable = is_satisfiable(root)\n",
        "print(\"The formula is satisfiable.\" if satisfiable else \"The formula is not satisfiable.\")"
      ],
      "metadata": {
        "colab": {
          "base_uri": "https://localhost:8080/"
        },
        "id": "WzxS5OI8CEbq",
        "outputId": "cbfa7669-f1b2-4454-e651-a7879dd571dc"
      },
      "execution_count": 159,
      "outputs": [
        {
          "output_type": "stream",
          "name": "stdout",
          "text": [
            "The formula is satisfiable.\n"
          ]
        }
      ]
    },
    {
      "cell_type": "code",
      "source": [
        "# Example usage\n",
        "input_formula = \"p ∧ ¬p\"\n",
        "translated_formula = T(input_formula)\n",
        "print(\"Original formula:\", input_formula)\n",
        "print(\"Translated formula:\", translated_formula)"
      ],
      "metadata": {
        "colab": {
          "base_uri": "https://localhost:8080/"
        },
        "id": "pAdlGJJ0dMWZ",
        "outputId": "d8b1acbb-dd6b-4c0b-d4e9-5539e9fd4737"
      },
      "execution_count": 160,
      "outputs": [
        {
          "output_type": "stream",
          "name": "stdout",
          "text": [
            "Original formula: p ∧ ¬p\n",
            "Translated formula: p ∧ ¬p\n"
          ]
        }
      ]
    },
    {
      "cell_type": "code",
      "source": [
        "# Example usage\n",
        "input_formula = \"p ∧ ¬p\"\n",
        "root = parse_formula(input_formula)\n",
        "print(\"Parse tree of the formula:\")\n",
        "print_tree(root)"
      ],
      "metadata": {
        "colab": {
          "base_uri": "https://localhost:8080/"
        },
        "id": "lF2m5WlMdN0W",
        "outputId": "bc2ed399-8ce3-4d7e-fc7b-ce5c92a8409c"
      },
      "execution_count": 161,
      "outputs": [
        {
          "output_type": "stream",
          "name": "stdout",
          "text": [
            "Parse tree of the formula:\n",
            "      R----p\n",
            "   R----¬\n",
            "Root: ∧\n",
            "   L----p\n"
          ]
        }
      ]
    },
    {
      "cell_type": "code",
      "source": [
        "# Example usage remains the same\n",
        "\n",
        "# Transform parse tree to DAG\n",
        "seen_subtrees = {}\n",
        "root = parse_to_dag(root, seen_subtrees)\n",
        "\n",
        "print(\"DAG of the formula:\")\n",
        "print_dag(root)"
      ],
      "metadata": {
        "colab": {
          "base_uri": "https://localhost:8080/"
        },
        "id": "WQ9Ay4FUdQrg",
        "outputId": "7529f93c-b4c5-4b81-f8ea-000ef51ffc88"
      },
      "execution_count": 162,
      "outputs": [
        {
          "output_type": "stream",
          "name": "stdout",
          "text": [
            "DAG of the formula:\n",
            "Node 1: ∧\n",
            "   Node 2: p\n",
            "   Node 3: ¬\n",
            "      Node 2: p (shared)\n"
          ]
        }
      ]
    },
    {
      "cell_type": "code",
      "source": [
        "# Usage (you need to construct the DAG from your formula first)\n",
        "seen_subtrees = {}\n",
        "root = parse_to_dag(root, seen_subtrees)\n",
        "\n",
        "satisfiable = is_satisfiable(root)\n",
        "print(\"The formula is satisfiable.\" if satisfiable else \"The formula is not satisfiable.\")"
      ],
      "metadata": {
        "colab": {
          "base_uri": "https://localhost:8080/"
        },
        "id": "oUO2Z9j4dfz1",
        "outputId": "da888335-fd25-4493-b632-c2ea485265f4"
      },
      "execution_count": 163,
      "outputs": [
        {
          "output_type": "stream",
          "name": "stdout",
          "text": [
            "The formula is not satisfiable.\n"
          ]
        }
      ]
    }
  ]
}